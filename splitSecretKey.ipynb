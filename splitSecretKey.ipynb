{
 "cells": [
  {
   "cell_type": "code",
   "execution_count": 1,
   "metadata": {},
   "outputs": [
    {
     "name": "stdout",
     "output_type": "stream",
     "text": [
      "G: 1 3685416753713387016781088315183077757961620795782546409894578378688607592378376318836054947676345821548104185464507 1339506544944476473020471379941921221584933875938349620426543736416511423956333506472724655353366534992391756441569\n"
     ]
    }
   ],
   "source": [
    "import utils\n",
    "import mcl\n",
    "mcl.mcl_init(mcl.CurveType.MCL_BLS12_381)\n",
    "\n",
    "G = mcl.G1()\n",
    "G = mcl.G1.BLS12_381_G1_generator()\n",
    "print('G:', G)"
   ]
  },
  {
   "cell_type": "markdown",
   "metadata": {},
   "source": [
    "## Keygen"
   ]
  },
  {
   "cell_type": "code",
   "execution_count": 2,
   "metadata": {},
   "outputs": [
    {
     "name": "stdout",
     "output_type": "stream",
     "text": [
      "a1: 16264450586798296509373945264942152485453423174912278318478830254799937761519\n"
     ]
    }
   ],
   "source": [
    "# Device 1\n",
    "a1 = mcl.Fr()\n",
    "a1.set_by_CSPRNG()\n",
    "print('a1:', a1)"
   ]
  },
  {
   "cell_type": "code",
   "execution_count": 3,
   "metadata": {},
   "outputs": [
    {
     "name": "stdout",
     "output_type": "stream",
     "text": [
      "a2: 49199668372085116008833918112014745448699686724400910835869928270603794546342\n"
     ]
    }
   ],
   "source": [
    "# Device 2\n",
    "a2 = mcl.Fr()\n",
    "a2.set_by_CSPRNG()\n",
    "print('a2:', a2)"
   ]
  },
  {
   "cell_type": "code",
   "execution_count": 4,
   "metadata": {},
   "outputs": [
    {
     "name": "stdout",
     "output_type": "stream",
     "text": [
      "A: 1 3537116012847577724321729847079682305543658596094825475398479359626499851211638238062167456985844232530194011926194 1034320419682214487282957782947350673544986165341214845898633824606405718086316175435021647633669607114673197341868\n"
     ]
    }
   ],
   "source": [
    "A = mcl.G1()\n",
    "A = G * (a1 + a2)\n",
    "print('A:', A)"
   ]
  },
  {
   "cell_type": "markdown",
   "metadata": {},
   "source": [
    "## Commitment"
   ]
  },
  {
   "cell_type": "code",
   "execution_count": 5,
   "metadata": {},
   "outputs": [
    {
     "name": "stdout",
     "output_type": "stream",
     "text": [
      "X1: 1 1594953371010680245812080708431292073054155319938108285609053150533070939615219245640162813293103989439041039783548 2594945220573263200242498534465785486477205798203712030714143751136844623629055928751552909832172069033808476866638\n"
     ]
    }
   ],
   "source": [
    "# Device 1\n",
    "x1 = mcl.Fr()\n",
    "x1.set_by_CSPRNG()\n",
    "X1 = mcl.G1()\n",
    "X1 = G * x1\n",
    "print('X1:', X1)"
   ]
  },
  {
   "cell_type": "code",
   "execution_count": 6,
   "metadata": {},
   "outputs": [
    {
     "name": "stdout",
     "output_type": "stream",
     "text": [
      "X2: 1 2376995206630749949065391668642789581409072984956988969756510637597403198266870558988849074594568445635420918205563 2594500679200105752982298223727448225313070979082227908316311244024010616918037715890208439174426924077991985708755\n"
     ]
    }
   ],
   "source": [
    "# Device 2\n",
    "x2 = mcl.Fr()\n",
    "x2.set_by_CSPRNG()\n",
    "X2 = mcl.G1()\n",
    "X2 = G * x2\n",
    "print('X2:', X2)"
   ]
  },
  {
   "cell_type": "code",
   "execution_count": 7,
   "metadata": {},
   "outputs": [
    {
     "name": "stdout",
     "output_type": "stream",
     "text": [
      "X: 1 3755390119614497049443639799598291488721875683785610320804033593255193816246670634451930183458986030166806490515267 20675765712474275450726879356098332153657092138323166626447671365698178120341900503528819441725610092097476486825\n"
     ]
    }
   ],
   "source": [
    "X = X1 + X2\n",
    "print('X:', X)"
   ]
  },
  {
   "cell_type": "markdown",
   "metadata": {},
   "source": [
    "## Challenge"
   ]
  },
  {
   "cell_type": "code",
   "execution_count": 8,
   "metadata": {},
   "outputs": [
    {
     "name": "stdout",
     "output_type": "stream",
     "text": [
      "c: 26378807385225870705689911848406315868328995312083653039575715706315489302518\n"
     ]
    }
   ],
   "source": [
    "c = mcl.Fr()\n",
    "c.set_by_CSPRNG()\n",
    "print('c:', c)"
   ]
  },
  {
   "cell_type": "markdown",
   "metadata": {},
   "source": [
    "## Response"
   ]
  },
  {
   "cell_type": "code",
   "execution_count": 9,
   "metadata": {},
   "outputs": [
    {
     "name": "stdout",
     "output_type": "stream",
     "text": [
      "s1: 50315671305541336314837301283262614495471886372099192129134695178285384760608\n"
     ]
    }
   ],
   "source": [
    "# Device 1\n",
    "s1 = mcl.Fr()\n",
    "s1 = x1 + c * a1\n",
    "print('s1:', s1)"
   ]
  },
  {
   "cell_type": "code",
   "execution_count": 10,
   "metadata": {},
   "outputs": [
    {
     "name": "stdout",
     "output_type": "stream",
     "text": [
      "s2: 37990244719049675854724426400850655542409102000558860493174586785371888377412\n"
     ]
    }
   ],
   "source": [
    "# Device 2\n",
    "s2 = mcl.Fr()\n",
    "s2 = x2 + c * a2\n",
    "print('s2:', s2)"
   ]
  },
  {
   "cell_type": "code",
   "execution_count": 11,
   "metadata": {},
   "outputs": [
    {
     "name": "stdout",
     "output_type": "stream",
     "text": [
      "s: 35870040849464821690113987175927304200190435872130414799705623263718691953507\n"
     ]
    }
   ],
   "source": [
    "s = mcl.Fr()\n",
    "s = s1 + s2\n",
    "print('s:', s)"
   ]
  },
  {
   "cell_type": "markdown",
   "metadata": {},
   "source": [
    "## Verification"
   ]
  },
  {
   "cell_type": "code",
   "execution_count": 12,
   "metadata": {},
   "outputs": [
    {
     "name": "stdout",
     "output_type": "stream",
     "text": [
      "Accepted\n"
     ]
    }
   ],
   "source": [
    "utils.printVerification(G * s == X + A * c)"
   ]
  }
 ],
 "metadata": {
  "kernelspec": {
   "display_name": "Python 3",
   "language": "python",
   "name": "python3"
  },
  "language_info": {
   "codemirror_mode": {
    "name": "ipython",
    "version": 3
   },
   "file_extension": ".py",
   "mimetype": "text/x-python",
   "name": "python",
   "nbconvert_exporter": "python",
   "pygments_lexer": "ipython3",
   "version": "3.8.10"
  }
 },
 "nbformat": 4,
 "nbformat_minor": 2
}
