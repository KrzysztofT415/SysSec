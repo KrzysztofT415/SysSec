{
 "cells": [
  {
   "cell_type": "code",
   "execution_count": 1,
   "metadata": {},
   "outputs": [
    {
     "name": "stdout",
     "output_type": "stream",
     "text": [
      "Q1: 1 3685416753713387016781088315183077757961620795782546409894578378688607592378376318836054947676345821548104185464507 1339506544944476473020471379941921221584933875938349620426543736416511423956333506472724655353366534992391756441569\n",
      "Q2: 1 3685416753713387016781088315183077757961620795782546409894578378688607592378376318836054947676345821548104185464507 1339506544944476473020471379941921221584933875938349620426543736416511423956333506472724655353366534992391756441569\n"
     ]
    }
   ],
   "source": [
    "import utils\n",
    "import mcl\n",
    "mcl.mcl_init(mcl.CurveType.MCL_BLS12_381)\n",
    "\n",
    "Q1 = mcl.G1()\n",
    "Q1 = mcl.G1.BLS12_381_G1_generator()\n",
    "\n",
    "Q2 = mcl.G1()\n",
    "Q2 = mcl.G1.BLS12_381_G1_generator()\n",
    "\n",
    "print('Q1:', Q1)\n",
    "print('Q2:', Q2)"
   ]
  },
  {
   "cell_type": "markdown",
   "metadata": {},
   "source": [
    "## Keygen"
   ]
  },
  {
   "cell_type": "code",
   "execution_count": 2,
   "metadata": {},
   "outputs": [
    {
     "name": "stdout",
     "output_type": "stream",
     "text": [
      "a1: 33838124379067539080737122441294002430163064769175515011440150182553437722978\n"
     ]
    }
   ],
   "source": [
    "a1 = mcl.Fr()\n",
    "a1.set_by_CSPRNG()\n",
    "print('a1:', a1)"
   ]
  },
  {
   "cell_type": "code",
   "execution_count": 3,
   "metadata": {},
   "outputs": [
    {
     "name": "stdout",
     "output_type": "stream",
     "text": [
      "a2: 36258613981506530908785056919627505225918842583668184195574266042909128080704\n"
     ]
    }
   ],
   "source": [
    "a2 = mcl.Fr()\n",
    "a2.set_by_CSPRNG()\n",
    "print('a2:', a2)"
   ]
  },
  {
   "cell_type": "code",
   "execution_count": 4,
   "metadata": {},
   "outputs": [
    {
     "name": "stdout",
     "output_type": "stream",
     "text": [
      "A: 1 2608350899706927650234082442376789451084791132165761872015522319971577603799158186925387809475913693353318023556696 657081764879222552335938189474174339718833998039712966301654158121376553421067377826330989000938040415407156841704\n"
     ]
    }
   ],
   "source": [
    "A1 = mcl.G1()\n",
    "A1 = Q1 * a1\n",
    "A2 = mcl.G1()\n",
    "A2 = Q2 * a2\n",
    "A = A1 + A2\n",
    "print('A:', A)"
   ]
  },
  {
   "cell_type": "markdown",
   "metadata": {},
   "source": [
    "## Commitment"
   ]
  },
  {
   "cell_type": "code",
   "execution_count": 5,
   "metadata": {},
   "outputs": [
    {
     "name": "stdout",
     "output_type": "stream",
     "text": [
      "X: 1 3968690785159196226924132821395203035198177901808905508660517423233910317827336839129172917169196705983577256365356 2469973170657865678936484378468236987282009551023375206645154502326633525760156095684154910301921976909493524747613\n"
     ]
    }
   ],
   "source": [
    "x1 = mcl.Fr()\n",
    "x1.set_by_CSPRNG()\n",
    "x2 = mcl.Fr()\n",
    "x2.set_by_CSPRNG()\n",
    "X = mcl.G1()\n",
    "X = Q1 * x1 + Q2 * x2\n",
    "print('X:', X)"
   ]
  },
  {
   "cell_type": "markdown",
   "metadata": {},
   "source": [
    "## Challenge"
   ]
  },
  {
   "cell_type": "code",
   "execution_count": 6,
   "metadata": {},
   "outputs": [
    {
     "name": "stdout",
     "output_type": "stream",
     "text": [
      "c: 46689189006654405558857203596350673837651411232121663885113510511347596990192\n"
     ]
    }
   ],
   "source": [
    "c = mcl.Fr()\n",
    "c.set_by_CSPRNG()\n",
    "print('c:', c)"
   ]
  },
  {
   "cell_type": "markdown",
   "metadata": {},
   "source": [
    "## Response"
   ]
  },
  {
   "cell_type": "code",
   "execution_count": 7,
   "metadata": {},
   "outputs": [
    {
     "name": "stdout",
     "output_type": "stream",
     "text": [
      "s1: 24832074306749250032333819875323733231480918253540869387970851217064910985516\n"
     ]
    }
   ],
   "source": [
    "s1 = mcl.Fr()\n",
    "s1 = x1 + c * a1\n",
    "print('s1:', s1)"
   ]
  },
  {
   "cell_type": "code",
   "execution_count": 8,
   "metadata": {},
   "outputs": [
    {
     "name": "stdout",
     "output_type": "stream",
     "text": [
      "s2: 21023631895685609484756352059901895712906592733494376567024377739961163870622\n"
     ]
    }
   ],
   "source": [
    "s2 = mcl.Fr()\n",
    "s2 = x2 + c * a2\n",
    "print('s2:', s2)"
   ]
  },
  {
   "cell_type": "markdown",
   "metadata": {},
   "source": [
    "## Verification"
   ]
  },
  {
   "cell_type": "code",
   "execution_count": 9,
   "metadata": {},
   "outputs": [
    {
     "name": "stdout",
     "output_type": "stream",
     "text": [
      "Accepted\n"
     ]
    }
   ],
   "source": [
    "utils.printVerification(Q1 * s1 + Q2 * s2 == X + A * c)"
   ]
  }
 ],
 "metadata": {
  "kernelspec": {
   "display_name": "Python 3",
   "language": "python",
   "name": "python3"
  },
  "language_info": {
   "codemirror_mode": {
    "name": "ipython",
    "version": 3
   },
   "file_extension": ".py",
   "mimetype": "text/x-python",
   "name": "python",
   "nbconvert_exporter": "python",
   "pygments_lexer": "ipython3",
   "version": "3.8.10"
  }
 },
 "nbformat": 4,
 "nbformat_minor": 2
}
