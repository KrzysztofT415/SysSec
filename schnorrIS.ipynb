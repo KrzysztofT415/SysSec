{
 "cells": [
  {
   "cell_type": "code",
   "execution_count": 1,
   "metadata": {},
   "outputs": [
    {
     "name": "stdout",
     "output_type": "stream",
     "text": [
      "G: 1 3685416753713387016781088315183077757961620795782546409894578378688607592378376318836054947676345821548104185464507 1339506544944476473020471379941921221584933875938349620426543736416511423956333506472724655353366534992391756441569\n"
     ]
    }
   ],
   "source": [
    "import utils\n",
    "import mcl\n",
    "mcl.mcl_init(mcl.CurveType.MCL_BLS12_381)\n",
    "\n",
    "G = mcl.G1()\n",
    "G = mcl.G1.BLS12_381_G1_generator()\n",
    "print('G:', G)"
   ]
  },
  {
   "cell_type": "markdown",
   "metadata": {},
   "source": [
    "## Keygen"
   ]
  },
  {
   "cell_type": "code",
   "execution_count": 2,
   "metadata": {},
   "outputs": [
    {
     "name": "stdout",
     "output_type": "stream",
     "text": [
      "a: 25399110668371512869993516301816316316788740810598582187349376635450468842601\n"
     ]
    }
   ],
   "source": [
    "a = mcl.Fr()\n",
    "a.set_by_CSPRNG()\n",
    "print('a:', a)"
   ]
  },
  {
   "cell_type": "code",
   "execution_count": 3,
   "metadata": {},
   "outputs": [
    {
     "name": "stdout",
     "output_type": "stream",
     "text": [
      "A: 1 1957729315779184037429418545917169032077216575761417408535223186305634762887309585690522329603118026496477347342517 1036897146830463805414847467461696281459696912899450573669193486194020370111895284765617903058524071431135790589024\n"
     ]
    }
   ],
   "source": [
    "A = mcl.G1()\n",
    "A = G * a\n",
    "print('A:', A)"
   ]
  },
  {
   "cell_type": "markdown",
   "metadata": {},
   "source": [
    "## Commitment"
   ]
  },
  {
   "cell_type": "code",
   "execution_count": 4,
   "metadata": {},
   "outputs": [
    {
     "name": "stdout",
     "output_type": "stream",
     "text": [
      "X: 1 3280408919831113908972288744775411624788641323914217571566385041111561031213813034482636791556341002220546670296475 3850108726148499766695904966490771837013006731858686229230020373499830333939518784147198144620643961638657186629375\n"
     ]
    }
   ],
   "source": [
    "x = mcl.Fr()\n",
    "x.set_by_CSPRNG()\n",
    "X = mcl.G1()\n",
    "X = G * x\n",
    "print('X:', X)"
   ]
  },
  {
   "cell_type": "markdown",
   "metadata": {},
   "source": [
    "## Challenge"
   ]
  },
  {
   "cell_type": "code",
   "execution_count": 5,
   "metadata": {},
   "outputs": [
    {
     "name": "stdout",
     "output_type": "stream",
     "text": [
      "c: 26704832400963167673564465864625275680238377187660539621681226236467502449434\n"
     ]
    }
   ],
   "source": [
    "c = mcl.Fr()\n",
    "c.set_by_CSPRNG()\n",
    "print('c:', c)"
   ]
  },
  {
   "cell_type": "markdown",
   "metadata": {},
   "source": [
    "## Response"
   ]
  },
  {
   "cell_type": "code",
   "execution_count": 6,
   "metadata": {},
   "outputs": [
    {
     "name": "stdout",
     "output_type": "stream",
     "text": [
      "s: 28004208553064682916342344315058367853789544098388776555790033441638053127148\n"
     ]
    }
   ],
   "source": [
    "s = mcl.Fr()\n",
    "s = x + c * a\n",
    "print('s:', s)"
   ]
  },
  {
   "cell_type": "markdown",
   "metadata": {},
   "source": [
    "## Verification"
   ]
  },
  {
   "cell_type": "code",
   "execution_count": 7,
   "metadata": {},
   "outputs": [
    {
     "name": "stdout",
     "output_type": "stream",
     "text": [
      "Accepted\n"
     ]
    }
   ],
   "source": [
    "utils.printVerification(G * s == X + A * c)"
   ]
  }
 ],
 "metadata": {
  "kernelspec": {
   "display_name": "Python 3",
   "language": "python",
   "name": "python3"
  },
  "language_info": {
   "codemirror_mode": {
    "name": "ipython",
    "version": 3
   },
   "file_extension": ".py",
   "mimetype": "text/x-python",
   "name": "python",
   "nbconvert_exporter": "python",
   "pygments_lexer": "ipython3",
   "version": "3.8.10"
  }
 },
 "nbformat": 4,
 "nbformat_minor": 2
}
