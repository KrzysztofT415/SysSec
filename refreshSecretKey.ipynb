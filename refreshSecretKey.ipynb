{
 "cells": [
  {
   "cell_type": "code",
   "execution_count": 1,
   "metadata": {},
   "outputs": [
    {
     "name": "stdout",
     "output_type": "stream",
     "text": [
      "G: 1 3685416753713387016781088315183077757961620795782546409894578378688607592378376318836054947676345821548104185464507 1339506544944476473020471379941921221584933875938349620426543736416511423956333506472724655353366534992391756441569\n"
     ]
    }
   ],
   "source": [
    "import utils\n",
    "import mcl\n",
    "mcl.mcl_init(mcl.CurveType.MCL_BLS12_381)\n",
    "\n",
    "G = mcl.G1()\n",
    "G = mcl.G1.BLS12_381_G1_generator()\n",
    "print('G:', G)"
   ]
  },
  {
   "cell_type": "markdown",
   "metadata": {},
   "source": [
    "## Keygen"
   ]
  },
  {
   "cell_type": "code",
   "execution_count": 2,
   "metadata": {},
   "outputs": [
    {
     "name": "stdout",
     "output_type": "stream",
     "text": [
      "a: 5081792762980815714414186520053317692385939509395328022542676784104478969030\n"
     ]
    }
   ],
   "source": [
    "a = mcl.Fr()\n",
    "a.set_by_CSPRNG()\n",
    "print('a:', a)"
   ]
  },
  {
   "cell_type": "code",
   "execution_count": 3,
   "metadata": {},
   "outputs": [
    {
     "name": "stdout",
     "output_type": "stream",
     "text": [
      "a1: 34651500957903490139591816214170735566232683484823488462934255550654639441430\n"
     ]
    }
   ],
   "source": [
    "# Device 1\n",
    "a1 = mcl.Fr()\n",
    "a1.set_by_CSPRNG()\n",
    "print('a1:', a1)"
   ]
  },
  {
   "cell_type": "code",
   "execution_count": 4,
   "metadata": {},
   "outputs": [
    {
     "name": "stdout",
     "output_type": "stream",
     "text": [
      "a2: 22866166980203516054270110814068547963843808525099477382212079933388420712113\n"
     ]
    }
   ],
   "source": [
    "# Device 2\n",
    "a2 = mcl.Fr()\n",
    "a2 = a - a1\n",
    "print('a2:', a2)"
   ]
  },
  {
   "cell_type": "code",
   "execution_count": 5,
   "metadata": {},
   "outputs": [
    {
     "name": "stdout",
     "output_type": "stream",
     "text": [
      "A: 1 2594109700617341089467844056625053783411026570023552943767871335594107941767311642581092468657169104023288501869083 1084359142333459715863843325667739672900344677840187604211963166024157368805857395746563488976514454120794104238572\n"
     ]
    }
   ],
   "source": [
    "A = mcl.G1()\n",
    "A = G * a\n",
    "print('A:', A)"
   ]
  },
  {
   "cell_type": "markdown",
   "metadata": {},
   "source": [
    "## Refresh"
   ]
  },
  {
   "cell_type": "code",
   "execution_count": 6,
   "metadata": {},
   "outputs": [
    {
     "name": "stdout",
     "output_type": "stream",
     "text": [
      "r: 17531270325654024781993153162161386015612306024557830705195429881750612080324\n"
     ]
    }
   ],
   "source": [
    "r = mcl.Fr()\n",
    "r.set_by_CSPRNG()\n",
    "print('r:', r)"
   ]
  },
  {
   "cell_type": "code",
   "execution_count": 7,
   "metadata": {},
   "outputs": [
    {
     "name": "stdout",
     "output_type": "stream",
     "text": [
      "a1: 52182771283557514921584969376332121581844989509381319168129685432405251521754\n"
     ]
    }
   ],
   "source": [
    "# Device 1\n",
    "a1 = a1 + r\n",
    "print('a1:', a1)"
   ]
  },
  {
   "cell_type": "code",
   "execution_count": 8,
   "metadata": {},
   "outputs": [
    {
     "name": "stdout",
     "output_type": "stream",
     "text": [
      "a2: 5334896654549491272276957651907161948231502500541646677016650051637808631789\n"
     ]
    }
   ],
   "source": [
    "# Device 2\n",
    "a2 = a2 - r\n",
    "print('a2:', a2)"
   ]
  },
  {
   "cell_type": "markdown",
   "metadata": {},
   "source": [
    "## Commitment"
   ]
  },
  {
   "cell_type": "code",
   "execution_count": 9,
   "metadata": {},
   "outputs": [
    {
     "name": "stdout",
     "output_type": "stream",
     "text": [
      "X1: 1 1463101229055205840642572169852037202066059173944763893351974997233030308508607361909389523869207466756433254539667 2177763866009756557886142217569673269786534392065764312049499812973802682824265464546930382874674985345338365488153\n"
     ]
    }
   ],
   "source": [
    "# Device 1\n",
    "x1 = mcl.Fr()\n",
    "x1.set_by_CSPRNG()\n",
    "X1 = mcl.G1()\n",
    "X1 = G * x1\n",
    "print('X1:', X1)"
   ]
  },
  {
   "cell_type": "code",
   "execution_count": 10,
   "metadata": {},
   "outputs": [
    {
     "name": "stdout",
     "output_type": "stream",
     "text": [
      "X2: 1 451400841634391619813996916947358912485703553813451350146124379545471462481948248996932412944046391338092599248927 1146181285294674633897956162323262444080835503639575213733684229460130203443657001044053528347949440937798315972787\n"
     ]
    }
   ],
   "source": [
    "# Device 2\n",
    "x2 = mcl.Fr()\n",
    "x2.set_by_CSPRNG()\n",
    "X2 = mcl.G1()\n",
    "X2 = G * x2\n",
    "print('X2:', X2)"
   ]
  },
  {
   "cell_type": "code",
   "execution_count": 11,
   "metadata": {},
   "outputs": [
    {
     "name": "stdout",
     "output_type": "stream",
     "text": [
      "X: 1 1659459483554725840002355104776341384181007490465046573436801364917449790673961414878598874779681168547099255012908 3929373372717149342277095919918144848150391148345433414809893724524812390225604796310386431290603314716028556460770\n"
     ]
    }
   ],
   "source": [
    "X = X1 + X2\n",
    "print('X:', X)"
   ]
  },
  {
   "cell_type": "markdown",
   "metadata": {},
   "source": [
    "## Challenge"
   ]
  },
  {
   "cell_type": "code",
   "execution_count": 12,
   "metadata": {},
   "outputs": [
    {
     "name": "stdout",
     "output_type": "stream",
     "text": [
      "c: 20190902356449464861397406938706255532501913882006501316108140187649891622576\n"
     ]
    }
   ],
   "source": [
    "c = mcl.Fr()\n",
    "c.set_by_CSPRNG()\n",
    "print('c:', c)"
   ]
  },
  {
   "cell_type": "markdown",
   "metadata": {},
   "source": [
    "## Response"
   ]
  },
  {
   "cell_type": "code",
   "execution_count": 13,
   "metadata": {},
   "outputs": [
    {
     "name": "stdout",
     "output_type": "stream",
     "text": [
      "s1: 44229475539051994837439793076428241302696497255087495425215161360987302886778\n"
     ]
    }
   ],
   "source": [
    "# Device 1\n",
    "s1 = mcl.Fr()\n",
    "s1 = x1 + c * a1\n",
    "print('s1:', s1)"
   ]
  },
  {
   "cell_type": "code",
   "execution_count": 14,
   "metadata": {},
   "outputs": [
    {
     "name": "stdout",
     "output_type": "stream",
     "text": [
      "s2: 11053704343278620230571248618412572999151966595151216550892650794467307359181\n"
     ]
    }
   ],
   "source": [
    "# Device 2\n",
    "s2 = mcl.Fr()\n",
    "s2 = x2 + c * a2\n",
    "print('s2:', s2)"
   ]
  },
  {
   "cell_type": "code",
   "execution_count": 15,
   "metadata": {},
   "outputs": [
    {
     "name": "stdout",
     "output_type": "stream",
     "text": [
      "s: 2847304707204424588563301186654848464157911349711074153504153455516029061446\n"
     ]
    }
   ],
   "source": [
    "s = mcl.Fr()\n",
    "s = s1 + s2\n",
    "print('s:', s)"
   ]
  },
  {
   "cell_type": "markdown",
   "metadata": {},
   "source": [
    "## Verification"
   ]
  },
  {
   "cell_type": "code",
   "execution_count": 16,
   "metadata": {},
   "outputs": [
    {
     "name": "stdout",
     "output_type": "stream",
     "text": [
      "Accepted\n"
     ]
    }
   ],
   "source": [
    "utils.printVerification(G * s == X + A * c)"
   ]
  }
 ],
 "metadata": {
  "kernelspec": {
   "display_name": "Python 3",
   "language": "python",
   "name": "python3"
  },
  "language_info": {
   "codemirror_mode": {
    "name": "ipython",
    "version": 3
   },
   "file_extension": ".py",
   "mimetype": "text/x-python",
   "name": "python",
   "nbconvert_exporter": "python",
   "pygments_lexer": "ipython3",
   "version": "3.8.10"
  }
 },
 "nbformat": 4,
 "nbformat_minor": 2
}
