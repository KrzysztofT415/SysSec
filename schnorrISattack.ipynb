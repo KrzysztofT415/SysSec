{
 "cells": [
  {
   "cell_type": "code",
   "execution_count": 1,
   "metadata": {},
   "outputs": [
    {
     "name": "stdout",
     "output_type": "stream",
     "text": [
      "G: 1 3685416753713387016781088315183077757961620795782546409894578378688607592378376318836054947676345821548104185464507 1339506544944476473020471379941921221584933875938349620426543736416511423956333506472724655353366534992391756441569\n"
     ]
    }
   ],
   "source": [
    "import utils\n",
    "import mcl\n",
    "mcl.mcl_init(mcl.CurveType.MCL_BLS12_381)\n",
    "\n",
    "G = mcl.G1()\n",
    "G = mcl.G1.BLS12_381_G1_generator()\n",
    "print('G:', G)"
   ]
  },
  {
   "cell_type": "markdown",
   "metadata": {},
   "source": [
    "## Keygen"
   ]
  },
  {
   "cell_type": "code",
   "execution_count": 2,
   "metadata": {},
   "outputs": [
    {
     "name": "stdout",
     "output_type": "stream",
     "text": [
      "a: 48916457427746078924652788386717193775138796705775387906950386980813784135345\n"
     ]
    }
   ],
   "source": [
    "a = mcl.Fr()\n",
    "a.set_by_CSPRNG()\n",
    "print('a:', a)"
   ]
  },
  {
   "cell_type": "code",
   "execution_count": 3,
   "metadata": {},
   "outputs": [
    {
     "name": "stdout",
     "output_type": "stream",
     "text": [
      "A: 1 2075278115049997094811139012913415677045489542538227621005266886394446315888088410953762695049803985257017167925105 2605677368488286099550629174243742705149230307695772685096599974195026354306526234976835950652972943361028998531975\n"
     ]
    }
   ],
   "source": [
    "A = mcl.G1()\n",
    "A = G * a\n",
    "print('A:', A)"
   ]
  },
  {
   "cell_type": "markdown",
   "metadata": {},
   "source": [
    "## Commitment"
   ]
  },
  {
   "cell_type": "code",
   "execution_count": 4,
   "metadata": {},
   "outputs": [
    {
     "name": "stdout",
     "output_type": "stream",
     "text": [
      "X: 1 2810373262362864312414858560892207060733640211231097946920739772690258767022633662860479312600282203086834667962664 117674565216330660050216588415898177185626429221830169169070875561966659552011795288063206652236064415124359223982\n"
     ]
    }
   ],
   "source": [
    "x = mcl.Fr()\n",
    "x.set_by_CSPRNG()\n",
    "X = mcl.G1()\n",
    "X = G * x\n",
    "print('X:', X)"
   ]
  },
  {
   "cell_type": "markdown",
   "metadata": {},
   "source": [
    "## Challenge 1"
   ]
  },
  {
   "cell_type": "code",
   "execution_count": 5,
   "metadata": {},
   "outputs": [
    {
     "name": "stdout",
     "output_type": "stream",
     "text": [
      "c1: 23957504232923782376762746953620180952574484976572624317481434978051180267337\n"
     ]
    }
   ],
   "source": [
    "c1 = mcl.Fr()\n",
    "c1.set_by_CSPRNG()\n",
    "print('c1:', c1)"
   ]
  },
  {
   "cell_type": "markdown",
   "metadata": {},
   "source": [
    "## Response 1"
   ]
  },
  {
   "cell_type": "code",
   "execution_count": 6,
   "metadata": {},
   "outputs": [
    {
     "name": "stdout",
     "output_type": "stream",
     "text": [
      "s1: 39630256814159062204173177648733137453323292015993364736732710037641946913056\n"
     ]
    }
   ],
   "source": [
    "s1 = mcl.Fr()\n",
    "s1 = x + c1 * a\n",
    "print('s1:', s1)"
   ]
  },
  {
   "cell_type": "markdown",
   "metadata": {},
   "source": [
    "## Challenge 2\n",
    "\n",
    "associated with the same commitment X"
   ]
  },
  {
   "cell_type": "code",
   "execution_count": 7,
   "metadata": {},
   "outputs": [
    {
     "name": "stdout",
     "output_type": "stream",
     "text": [
      "c2: 18337604650559218991466129151371128780759813313248156960957167272964921688523\n"
     ]
    }
   ],
   "source": [
    "c2 = mcl.Fr()\n",
    "c2.set_by_CSPRNG()\n",
    "print('c2:', c2)"
   ]
  },
  {
   "cell_type": "markdown",
   "metadata": {},
   "source": [
    "## Response 2"
   ]
  },
  {
   "cell_type": "code",
   "execution_count": 8,
   "metadata": {},
   "outputs": [
    {
     "name": "stdout",
     "output_type": "stream",
     "text": [
      "s2: 29447627490431310559476885317961578025636448034746936397011542543010772638997\n"
     ]
    }
   ],
   "source": [
    "s2 = mcl.Fr()\n",
    "s2 = x + c2 * a\n",
    "print('s2:', s2)"
   ]
  },
  {
   "cell_type": "markdown",
   "metadata": {},
   "source": [
    "## Attack"
   ]
  },
  {
   "cell_type": "code",
   "execution_count": 9,
   "metadata": {},
   "outputs": [
    {
     "name": "stdout",
     "output_type": "stream",
     "text": [
      "Accepted\n"
     ]
    }
   ],
   "source": [
    "a_p = mcl.Fr()\n",
    "a_p = (s2 - s1) / (c2 - c1)\n",
    "\n",
    "utils.printVerification(a_p == a)"
   ]
  }
 ],
 "metadata": {
  "kernelspec": {
   "display_name": "Python 3",
   "language": "python",
   "name": "python3"
  },
  "language_info": {
   "codemirror_mode": {
    "name": "ipython",
    "version": 3
   },
   "file_extension": ".py",
   "mimetype": "text/x-python",
   "name": "python",
   "nbconvert_exporter": "python",
   "pygments_lexer": "ipython3",
   "version": "3.8.10"
  }
 },
 "nbformat": 4,
 "nbformat_minor": 2
}
